{
  "nbformat": 4,
  "nbformat_minor": 0,
  "metadata": {
    "colab": {
      "provenance": [],
      "authorship_tag": "ABX9TyNH4gzqxGWs/yFjrzG76bHe",
      "include_colab_link": true
    },
    "kernelspec": {
      "name": "python3",
      "display_name": "Python 3"
    },
    "language_info": {
      "name": "python"
    }
  },
  "cells": [
    {
      "cell_type": "markdown",
      "metadata": {
        "id": "view-in-github",
        "colab_type": "text"
      },
      "source": [
        "<a href=\"https://colab.research.google.com/github/Izzan-commits/Algoritma-pemrograman.-/blob/main/Percabangan.ipynb\" target=\"_parent\"><img src=\"https://colab.research.google.com/assets/colab-badge.svg\" alt=\"Open In Colab\"/></a>"
      ]
    },
    {
      "cell_type": "markdown",
      "source": [
        "#Percabangan pada phyton\n",
        "Dalam bahasa pemrograman python,statement yang digunakan untuk melakukan percabangan adalah:\n",
        "\n",
        "1.if\n",
        "\n",
        "2.elif\n",
        "\n",
        "3.else\n",
        "\n",
        "Di mana if merupakan kondisi utama, sedangkan elif adalah kondisi kedua atau ketiga hingga ke-x, sedangkan else adalah kondisi terakhir di mana semua kondisi sebelumnya tidak ada yang terpenuhi."
      ],
      "metadata": {
        "id": "87ey4Hi1wo79"
      }
    },
    {
      "cell_type": "code",
      "execution_count": 2,
      "metadata": {
        "colab": {
          "base_uri": "https://localhost:8080/"
        },
        "id": "zMl0EbwwwZL2",
        "outputId": "ff319dbf-bdc8-4a3a-826c-d2b603070833"
      },
      "outputs": [
        {
          "output_type": "stream",
          "name": "stdout",
          "text": [
            "Nilai Anda A\n",
            "Nilai Anda bukan A\n"
          ]
        }
      ],
      "source": [
        "#contoh kondisi 1 : if\n",
        "nilai = 95\n",
        "if nilai >= 90:\n",
        "    print(\"Nilai Anda A\")\n",
        "#contoh kondisi 2 : if, else\n",
        "nilai = 85\n",
        "if nilai >= 90:\n",
        "    print(\"Nilai Anda A\")\n",
        "else:\n",
        "    print(\"Nilai Anda bukan A\")"
      ]
    },
    {
      "cell_type": "code",
      "source": [
        "#kondisi 1 : if\n",
        "nilai = 95\n",
        "if nilai >= 90:\n",
        "    print(\"Nilai Anda A\")\n",
        "\n",
        "#kondisi 2 : if, else\n",
        "nilai = 85\n",
        "if nilai >= 90:\n",
        "    print(\"Nilai Anda A\")\n",
        "else:\n",
        "    print(\"Nilai Anda bukan A\")\n",
        "\n",
        "#kondisi 3 : if, elif, else\n",
        "nilai = 75\n",
        "if nilai >= 90:\n",
        "    print(\"Nilai Anda A\")\n",
        "elif nilai >= 80:\n",
        "    print(\"Nilai Anda B\")\n",
        "else:\n",
        "    print(\"Nilai Anda C atau D\")\n",
        "\n",
        "#kondisi 4 : if, elif, elif, else\n",
        "nilai = 65\n",
        "if nilai >= 90:\n",
        "    print(\"Nilai Anda A\")\n",
        "elif nilai >= 80:\n",
        "    print(\"Nilai Anda B\")\n",
        "elif nilai >= 70:\n",
        "    print(\"Nilai Anda C\")\n",
        "else:\n",
        "    print(\"Nilai Anda D\")\n",
        "\n",
        "#kondisi 5 : if, elif, elif, elif, else\n",
        "if nilai >= 90:\n",
        "    print(\"Nilai Anda A\")\n",
        "elif nilai >= 80:\n",
        "    print(\"Nilai Anda B\")\n",
        "elif nilai >= 70:\n",
        "    print(\"Nilai Anda C\")\n",
        "elif nilai >= 60:\n",
        "    print(\"Nilai Anda D\")\n",
        "else:\n",
        "    print(\"Nilai Anda E\")\n",
        "\n",
        "#kondisi 6 : if, elif, elif, elif, elif, else\n",
        "nilai = 45\n",
        "if nilai >= 90:\n",
        "    print(\"Nilai Anda A\")\n",
        "elif nilai >= 80:\n",
        "    print(\"Nilai Anda B\")\n",
        "elif nilai >= 70:\n",
        "    print(\"Nilai Anda C\")\n",
        "elif nilai >= 60:\n",
        "    print(\"Nilai Anda D\")\n",
        "elif nilai >= 50:\n",
        "    print(\"Nilai Anda E\")\n",
        "else:\n",
        "    print(\"Nilai Anda F\")\n",
        "\n",
        "#kondisi 7 : if, elif, elif, elif, elif, elif, else\n",
        "nilai = 35\n",
        "if nilai >= 90:\n",
        "    print(\"Nilai Anda A\")\n",
        "elif nilai >= 80:\n",
        "    print(\"Nilai Anda B\")\n",
        "elif nilai >= 70:\n",
        "    print(\"Nilai Anda C\")\n",
        "elif nilai >= 60:\n",
        "    print(\"Nilai Anda D\")\n",
        "elif nilai >= 50:\n",
        "    print(\"Nilai Anda E\")\n",
        "elif nilai >= 40:\n",
        "    print(\"Nilai Anda F\")\n",
        "else:\n",
        "    print(\"Nilai Anda G\")"
      ],
      "metadata": {
        "colab": {
          "base_uri": "https://localhost:8080/"
        },
        "id": "MItw_Om9yNPC",
        "outputId": "e4fefa8f-5c6d-4eb3-d96d-211a18833280"
      },
      "execution_count": 8,
      "outputs": [
        {
          "output_type": "stream",
          "name": "stdout",
          "text": [
            "Nilai Anda A\n",
            "Nilai Anda bukan A\n",
            "Nilai Anda C atau D\n",
            "Nilai Anda D\n",
            "Nilai Anda D\n",
            "Nilai Anda F\n",
            "Nilai Anda G\n"
          ]
        }
      ]
    }
  ]
}