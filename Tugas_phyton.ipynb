{
  "nbformat": 4,
  "nbformat_minor": 0,
  "metadata": {
    "colab": {
      "provenance": [],
      "authorship_tag": "ABX9TyP9gOkIEdkAMiht+KW0A0wF",
      "include_colab_link": true
    },
    "kernelspec": {
      "name": "python3",
      "display_name": "Python 3"
    },
    "language_info": {
      "name": "python"
    }
  },
  "cells": [
    {
      "cell_type": "markdown",
      "metadata": {
        "id": "view-in-github",
        "colab_type": "text"
      },
      "source": [
        "<a href=\"https://colab.research.google.com/github/Izzan-commits/Algoritma-pemrograman.-/blob/main/Tugas_phyton.ipynb\" target=\"_parent\"><img src=\"https://colab.research.google.com/assets/colab-badge.svg\" alt=\"Open In Colab\"/></a>"
      ]
    },
    {
      "cell_type": "markdown",
      "source": [
        "#Materi tentang variable"
      ],
      "metadata": {
        "id": "avOnGwdEAYIX"
      }
    },
    {
      "cell_type": "code",
      "execution_count": 1,
      "metadata": {
        "colab": {
          "base_uri": "https://localhost:8080/"
        },
        "id": "ek74mHDWAD0j",
        "outputId": "98121a1b-92a7-4778-dcda-3dfb20fc3ad3"
      },
      "outputs": [
        {
          "output_type": "stream",
          "name": "stdout",
          "text": [
            "5\n",
            "John\n"
          ]
        }
      ],
      "source": [
        "\n",
        "#contoh variable\n",
        "\n",
        "x = 5 # x bertipe int\n",
        "y = \"John\" # x sekarang bertipe str\n",
        "print(x)\n",
        "print(y)"
      ]
    },
    {
      "cell_type": "markdown",
      "source": [
        "Variable menggunakan casting"
      ],
      "metadata": {
        "id": "AE6N0mmpAkx8"
      }
    },
    {
      "cell_type": "code",
      "source": [
        "x = str(7)\n",
        "y = int(3)\n",
        "z = float(4)\n",
        "print(x)\n",
        "print(y)\n",
        "print(z)"
      ],
      "metadata": {
        "colab": {
          "base_uri": "https://localhost:8080/"
        },
        "id": "olMb0CP7AqEl",
        "outputId": "72ecec3f-0d0b-45f7-98c5-6bfa40b29194"
      },
      "execution_count": 2,
      "outputs": [
        {
          "output_type": "stream",
          "name": "stdout",
          "text": [
            "7\n",
            "3\n",
            "4.0\n"
          ]
        }
      ]
    },
    {
      "cell_type": "code",
      "source": [
        "\n",
        "#program studi kasus kecocokan berteman\n",
        "\n",
        "a = input (\"masukan nama teman pertama :\")\n",
        "b = input (\"masukan nama teman kedua :\")\n",
        "\n",
        "print (\"berdasarkan hasil survei :\" ,a ,\" dan \" ,b ,\" adalah teman yang cocok\")"
      ],
      "metadata": {
        "colab": {
          "base_uri": "https://localhost:8080/"
        },
        "id": "rNDn2LcEA9kc",
        "outputId": "38e2adce-c395-4b3c-bdb9-afb5a3980aa7"
      },
      "execution_count": 7,
      "outputs": [
        {
          "output_type": "stream",
          "name": "stdout",
          "text": [
            "masukan nama teman pertama :tegar\n",
            "masukan nama teman kedua :izzan\n",
            "berdasarkan hasil survei : tegar  dan  izzan  adalah teman yang cocok\n"
          ]
        }
      ]
    },
    {
      "cell_type": "code",
      "source": [
        "#studi kasus pembagian kue untuk dua orang\n",
        "a = 50\n",
        "b = input (\"masukan nama teman pertama :\")\n",
        "c = input (\"masukan nama teman kedua :\")\n",
        "d = int(a) / 2\n",
        "print (b,\"mendapatkan kue sebanyak\", d, \"kue. Dan si\", c,\"mendapatkan kue sebanyak\", d)"
      ],
      "metadata": {
        "colab": {
          "base_uri": "https://localhost:8080/"
        },
        "id": "9aR7G8FWB8i0",
        "outputId": "a2544044-db7d-4ce0-d1b8-911de3a6f0d4"
      },
      "execution_count": 6,
      "outputs": [
        {
          "output_type": "stream",
          "name": "stdout",
          "text": [
            "masukan nama teman pertama :iman\n",
            "masukan nama teman kedua :kahfi\n",
            "iman mendapatkan kue sebanyak 25.0 kue. Dan si kahfi mendapatkan kue sebanyak 25.0\n"
          ]
        }
      ]
    }
  ]
}