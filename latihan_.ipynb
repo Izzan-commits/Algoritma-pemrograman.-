{
  "nbformat": 4,
  "nbformat_minor": 0,
  "metadata": {
    "colab": {
      "provenance": [],
      "authorship_tag": "ABX9TyNXo19SJxQQG5Eykky2dsm2",
      "include_colab_link": true
    },
    "kernelspec": {
      "name": "python3",
      "display_name": "Python 3"
    },
    "language_info": {
      "name": "python"
    }
  },
  "cells": [
    {
      "cell_type": "markdown",
      "metadata": {
        "id": "view-in-github",
        "colab_type": "text"
      },
      "source": [
        "<a href=\"https://colab.research.google.com/github/Izzan-commits/Algoritma-pemrograman.-/blob/main/latihan_.ipynb\" target=\"_parent\"><img src=\"https://colab.research.google.com/assets/colab-badge.svg\" alt=\"Open In Colab\"/></a>"
      ]
    },
    {
      "cell_type": "markdown",
      "source": [
        "#Tugas 1\n",
        "Soal 1\n",
        "\n",
        "Deskripsi:\n",
        "\n",
        "Sebuah toko memberikan diskon kepada pelanggan berdasarkan jumlah pembelian mereka. Aturan diskon adalah sebagai berikut:\n",
        "\n",
        "Pembelian di bawah Rp100.000 tidak mendapat diskon.\n",
        "\n",
        "Pembelian antara Rp100.000 - Rp500.000 mendapat diskon 10%.\n",
        "\n",
        "Pembelian di atas Rp500.000 mendapat diskon 20%."
      ],
      "metadata": {
        "id": "1C0f8NCqhQ5s"
      }
    },
    {
      "cell_type": "code",
      "execution_count": null,
      "metadata": {
        "colab": {
          "base_uri": "https://localhost:8080/"
        },
        "id": "lZh8xjxWhHIl",
        "outputId": "c138c197-8d35-4af9-bd7c-4cd4858ba74d"
      },
      "outputs": [
        {
          "output_type": "stream",
          "name": "stdout",
          "text": [
            "masukkan jumlah pebelian : Rp50000\n",
            "Anda tidak mendapat diskon\n"
          ]
        }
      ],
      "source": [
        "#soal 1\n",
        "total = float(input(\"masukkan jumlah pebelian : Rp\"))\n",
        "if total >= 100000 and total <=500000 :\n",
        "  print(\"Anda mendapat diskon 10%\")\n",
        "elif total >= 500000 :\n",
        "  print(\"Anda mendapat diskon 20%\")\n",
        "else:\n",
        "  print(\"Anda tidak mendapat diskon\")"
      ]
    },
    {
      "cell_type": "markdown",
      "source": [
        "\n",
        "Soal 2: Klasifikasi Umur\n",
        "\n",
        "Deskripsi:\n",
        "\n",
        "Anda diminta membuat program untuk mengelompokkan seseorang berdasarkan umur. Aturannya:\n",
        "\n",
        "Umur 0-12 tahun: Anak-anak\n",
        "\n",
        "Umur 13-17 tahun: Remaja\n",
        "\n",
        "Umur 18-64 tahun: Dewasa\n",
        "\n",
        "Umur 65 tahun ke atas: Lansia"
      ],
      "metadata": {
        "id": "ItuhSnvBnYn7"
      }
    },
    {
      "cell_type": "code",
      "source": [
        "#soal 2\n",
        "umur = int(input(\"Silahkan masukkan umur Anda:\"))\n",
        "if umur <= 12 :\n",
        "  print(\"Anak-anak\")\n",
        "elif umur >= 13 and umur <= 17 :\n",
        "  print(\"Remaja\")\n",
        "elif umur >= 18 and umur <= 64 :\n",
        "  print(\"Dewasa\")\n",
        "else :\n",
        "  print(\"Lansia\")"
      ],
      "metadata": {
        "colab": {
          "base_uri": "https://localhost:8080/"
        },
        "id": "zreVelZEnj3E",
        "outputId": "1c5046bf-4172-4cce-b62a-366e30ea322e"
      },
      "execution_count": null,
      "outputs": [
        {
          "output_type": "stream",
          "name": "stdout",
          "text": [
            "Silahkan masukkan umur Anda:65\n",
            "Lansia\n"
          ]
        }
      ]
    },
    {
      "cell_type": "markdown",
      "source": [
        "Soal 3: Penilaian Nilai Siswa\n",
        "\n",
        "Deskripsi:\n",
        "\n",
        "Sebuah sekolah memiliki standar penilaian sebagai berikut:\n",
        "\n",
        "Nilai 90-100: Sangat Baik\n",
        "\n",
        "Nilai 70-89: Baik\n",
        "\n",
        "Nilai 50-69: Cukup\n",
        "\n",
        "Nilai di bawah 50: Kurang\n",
        "\n",
        "Tugas:\n",
        "\n",
        "Buat program yang menerima input nilai dari pengguna.\n",
        "Tentukan kategori nilai sesuai standar di atas.\n",
        "Tampilkan hasil penilaian."
      ],
      "metadata": {
        "id": "c4VrlI7spjUV"
      }
    },
    {
      "cell_type": "code",
      "source": [
        "#soal 3\n",
        "nilai = int(input(\"Masukan nilai:\"))\n",
        "if nilai >=90 and nilai <=100 :\n",
        "  print(\"Sangat baik\")\n",
        "elif nilai >=70 and nilai <=89:\n",
        "  print(\"Baik\")\n",
        "elif nilai >=50 and nilai <=69:\n",
        "  print(\"Cukup\")\n",
        "else :\n",
        "  print(\"Kurang\")"
      ],
      "metadata": {
        "colab": {
          "base_uri": "https://localhost:8080/"
        },
        "id": "iyaQJWXDp3aH",
        "outputId": "f5288521-e962-4465-b637-ac2c2420a471"
      },
      "execution_count": null,
      "outputs": [
        {
          "output_type": "stream",
          "name": "stdout",
          "text": [
            "Masukan nilai:40\n",
            "Kurang\n"
          ]
        }
      ]
    },
    {
      "cell_type": "markdown",
      "source": [
        "Soal 4: Pengecekan Tahun Kabisat\n",
        "\n",
        "Deskripsi:\n",
        "\n",
        "Anda diminta membuat program untuk menentukan apakah suatu tahun merupakan tahun kabisat. Aturannya:\n",
        "\n",
        "Tahun habis dibagi 4 adalah kabisat, kecuali tahun yang habis dibagi 100 tetapi tidak habis dibagi 400.\n",
        "Tugas:\n",
        "\n",
        "Buat program yang menerima input tahun dari pengguna.\n",
        "Gunakan percabangan untuk menentukan apakah tahun tersebut kabisat.\n",
        "Tampilkan hasilnya."
      ],
      "metadata": {
        "id": "Z26gMGqHr-Iq"
      }
    },
    {
      "cell_type": "code",
      "source": [
        "tahun = int(input(\"Silahkan masukkan tahun:\"))\n",
        "if tahun % 4 == 0 :\n",
        "  if tahun % 100 == 0 :\n",
        "    if tahun % 400 == 0 :\n",
        "      print(\"Tahun kabisat\")\n",
        "    else :\n",
        "      print(\"Bukan tahun kabisat\")\n",
        "  else :\n",
        "      print(\"Tahun kabisat\")\n",
        "\n"
      ],
      "metadata": {
        "colab": {
          "base_uri": "https://localhost:8080/"
        },
        "id": "rXtI5RSTsOwC",
        "outputId": "fd209ee1-44e2-4434-a280-8edd1b3f9f45"
      },
      "execution_count": null,
      "outputs": [
        {
          "output_type": "stream",
          "name": "stdout",
          "text": [
            "Silahkan masukkan tahun:2024\n",
            "Tahun kabisat\n"
          ]
        }
      ]
    },
    {
      "cell_type": "markdown",
      "source": [
        "Soal 5: Kalkulator Sederhana\n",
        "\n",
        "Deskripsi:\n",
        "\n",
        "Buat kalkulator sederhana yang dapat melakukan operasi tambah, kurang, kali, dan bagi. Program akan meminta pengguna memasukkan dua angka dan memilih operasi.\n"
      ],
      "metadata": {
        "id": "0wQO2xU4uy75"
      }
    },
    {
      "cell_type": "code",
      "source": [
        "#tugas 5\n",
        "a = int(input(\"Masukkan angka:\"))\n",
        "b = int(input(\"Masukkan angka kedua: \"))\n",
        "c = input(\"Masukkan operasi: \")\n",
        "if c == \"+\":\n",
        "  print(a+b)\n",
        "elif c == \"-\":\n",
        "  print(a-b)\n",
        "elif c == \"*\":\n",
        "  print(a*b)"
      ],
      "metadata": {
        "id": "kbj5eoLJvgMQ",
        "colab": {
          "base_uri": "https://localhost:8080/"
        },
        "outputId": "631e7e2b-13e2-428a-a013-964d2ab591eb"
      },
      "execution_count": 41,
      "outputs": [
        {
          "output_type": "stream",
          "name": "stdout",
          "text": [
            "Masukkan angka:7\n",
            "Masukkan angka kedua: 2\n",
            "Masukkan operasi: +\n",
            "9\n"
          ]
        }
      ]
    }
  ]
}