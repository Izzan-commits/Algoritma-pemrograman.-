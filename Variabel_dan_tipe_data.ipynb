{
  "nbformat": 4,
  "nbformat_minor": 0,
  "metadata": {
    "colab": {
      "provenance": [],
      "authorship_tag": "ABX9TyO6yHg8RXakaFeSLFL8DLPc",
      "include_colab_link": true
    },
    "kernelspec": {
      "name": "python3",
      "display_name": "Python 3"
    },
    "language_info": {
      "name": "python"
    }
  },
  "cells": [
    {
      "cell_type": "markdown",
      "metadata": {
        "id": "view-in-github",
        "colab_type": "text"
      },
      "source": [
        "<a href=\"https://colab.research.google.com/github/Izzan-commits/Algoritma-pemrograman.-/blob/main/Variabel_dan_tipe_data.ipynb\" target=\"_parent\"><img src=\"https://colab.research.google.com/assets/colab-badge.svg\" alt=\"Open In Colab\"/></a>"
      ]
    },
    {
      "cell_type": "markdown",
      "source": [
        "#variabel phyton\n",
        "Variabel=Value\n",
        "\n",
        "int = untuk mendeklarasikan angka (0-9)\n",
        "\n",
        "string = untuk mendeklarasikan huruf (a-z dan karakter)\n",
        "\n",
        "float = untuk mendeklarasikan desimal (1, 2 2,5)"
      ],
      "metadata": {
        "id": "0S0l5TV5bnxL"
      }
    },
    {
      "cell_type": "code",
      "source": [
        "#contoh 1\n",
        "a=5\n",
        "b=7\n",
        "c=a+b\n",
        "print(c)\n",
        "\n",
        "#contoh 2\n",
        "a='7'\n",
        "b='5'\n",
        "c=a+b\n",
        "print(c)\n",
        "\n",
        "#contoh 3\n",
        "a=1.2\n",
        "b=1.3\n",
        "c=a+b\n",
        "print(c)"
      ],
      "metadata": {
        "colab": {
          "base_uri": "https://localhost:8080/"
        },
        "id": "J8DX8px2dCQH",
        "outputId": "22b25c32-bf46-4681-b590-28b2f3b1ab9e"
      },
      "execution_count": null,
      "outputs": [
        {
          "output_type": "stream",
          "name": "stdout",
          "text": [
            "12\n",
            "75\n",
            "2.5\n"
          ]
        }
      ]
    },
    {
      "cell_type": "markdown",
      "source": [
        "#Operator Aritmatika\n",
        "1.penjumlahan = +\n",
        "\n",
        "2.pengurangan = -\n",
        "\n",
        "3.perkalian = *\n",
        "\n",
        "4.pembagian = /\n",
        "\n",
        "5.perpangkatan = **\n",
        "\n",
        "6.modulus (persen) = %"
      ],
      "metadata": {
        "id": "JVOc1XUm0hip"
      }
    },
    {
      "cell_type": "code",
      "source": [
        "\n",
        "\n",
        "#contoh pertambahan\n",
        "a=6\n",
        "b=7\n",
        "c=a+b\n",
        "print(c)\n",
        "\n",
        "#contoh pengurangan\n",
        "a=10\n",
        "b=5\n",
        "c=a-b\n",
        "print(c)\n",
        "\n",
        "#contoh perkalian\n",
        "a=2\n",
        "b=5\n",
        "c=a*b\n",
        "print(c)\n",
        "\n",
        "#contoh pembagian\n",
        "a=6\n",
        "b=2\n",
        "c=a/b\n",
        "print(c)\n",
        "\n",
        "#contoh perpangkatan\n",
        "a=6\n",
        "b=2\n",
        "c=a**b\n",
        "print(c)\n",
        "\n",
        "#contoh modulus (persen)\n",
        "a=7\n",
        "b=3\n",
        "c=a%b\n",
        "print(c)"
      ],
      "metadata": {
        "id": "3UmvvbxBd_Ne",
        "colab": {
          "base_uri": "https://localhost:8080/"
        },
        "outputId": "5079c6f9-eeff-4982-ab61-a176357e974d"
      },
      "execution_count": 1,
      "outputs": [
        {
          "output_type": "stream",
          "name": "stdout",
          "text": [
            "13\n",
            "5\n",
            "10\n",
            "3.0\n",
            "36\n",
            "1\n"
          ]
        }
      ]
    },
    {
      "cell_type": "markdown",
      "source": [
        "#Operator Perbandingan\n",
        "1.lebih besar : > (a>70 : 71-100)\n",
        "\n",
        "2.lebih kecil : < (a<70 : 69-0)\n",
        "\n",
        "3.lebih besar = : >= (a>=70 : 70-100)\n",
        "\n",
        "4.lebih kecil = : <= (a<=70 : 70-0)\n",
        "\n",
        "5.tidak sama dengan : != (benar!=salah :true dan false) (ingkaran)\n",
        "\n",
        "6.sama dengan sama : == (benar==benar)"
      ],
      "metadata": {
        "id": "4HLxZTEEE4Jt"
      }
    },
    {
      "cell_type": "code",
      "source": [
        "#contoh lebih besar (>)\n",
        "a=50\n",
        "b=5\n",
        "c=a>b\n",
        "print(c)\n",
        "\n",
        "#contoh lebih kecil (<)\n",
        "a=5\n",
        "b=50\n",
        "c=a<b\n",
        "print(c)\n",
        "\n",
        "#contoh lebih besar = (>=)\n",
        "a=50\n",
        "b=5\n",
        "c=a>=b\n",
        "print(c)\n",
        "\n",
        "#contoh lebih kecil = (<=)\n",
        "a=50\n",
        "b=100\n",
        "c=a<=b\n",
        "print(c)\n",
        "\n",
        "#contoh tidak sama dengan (!=)\n",
        "a=\"benar\"\n",
        "b=\"salah\"\n",
        "c=a!=b\n",
        "print(c)\n",
        "\n",
        "#contoh sama dengan sama (==)\n",
        "a=\"benar\"\n",
        "b=\"benar\"\n",
        "c=a==b\n",
        "print(c)"
      ],
      "metadata": {
        "colab": {
          "base_uri": "https://localhost:8080/"
        },
        "id": "vCcgrWXk7Y6t",
        "outputId": "a9f43b6f-4576-46a6-d561-f5078b6a6d9d"
      },
      "execution_count": 10,
      "outputs": [
        {
          "output_type": "stream",
          "name": "stdout",
          "text": [
            "True\n",
            "True\n",
            "True\n",
            "True\n",
            "True\n",
            "True\n"
          ]
        }
      ]
    }
  ]
}