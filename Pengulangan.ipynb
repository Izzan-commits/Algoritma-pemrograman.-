{
  "nbformat": 4,
  "nbformat_minor": 0,
  "metadata": {
    "colab": {
      "provenance": [],
      "authorship_tag": "ABX9TyPuAyMRPN0qZaFvMAlrmd06",
      "include_colab_link": true
    },
    "kernelspec": {
      "name": "python3",
      "display_name": "Python 3"
    },
    "language_info": {
      "name": "python"
    }
  },
  "cells": [
    {
      "cell_type": "markdown",
      "metadata": {
        "id": "view-in-github",
        "colab_type": "text"
      },
      "source": [
        "<a href=\"https://colab.research.google.com/github/Izzan-commits/Algoritma-pemrograman.-/blob/main/Pengulangan.ipynb\" target=\"_parent\"><img src=\"https://colab.research.google.com/assets/colab-badge.svg\" alt=\"Open In Colab\"/></a>"
      ]
    },
    {
      "cell_type": "markdown",
      "source": [
        "#Pengulangan\n",
        "Pengulangan ( while & for )\n",
        "\n",
        "Dalam Python, pengulangan adalah cara untuk menjalankan blok kode berulang kali. menyediakan dua jenis utama pengulangan: while dan for.\n",
        "\n",
        "1.while adalah struktur kontrol yang memungkinkan Anda untuk menjalankan blok kode berulang kali selama kondisi tertentu bernilai True.Contoh :"
      ],
      "metadata": {
        "id": "6tkFhkZdtQmb"
      }
    },
    {
      "cell_type": "code",
      "execution_count": 1,
      "metadata": {
        "colab": {
          "base_uri": "https://localhost:8080/"
        },
        "id": "Wim5WIuOtK7h",
        "outputId": "e86f2ef8-bfe6-44dd-c281-6ca0480dd33a"
      },
      "outputs": [
        {
          "output_type": "stream",
          "name": "stdout",
          "text": [
            "1\n",
            "2\n",
            "3\n",
            "4\n",
            "5\n",
            "6\n",
            "7\n",
            "8\n",
            "9\n",
            "10\n"
          ]
        }
      ],
      "source": [
        "a = 1\n",
        "while a <= 10:\n",
        "  print(a)\n",
        "  a += 1"
      ]
    },
    {
      "cell_type": "markdown",
      "source": [
        "2.for digunakan untuk mengulangi elemen-elemen dalam suatu urutan ( seperti list, tuple, string, atau range )\n",
        "\n",
        "Contoh :"
      ],
      "metadata": {
        "id": "t1Af7YxRuBF9"
      }
    },
    {
      "cell_type": "code",
      "source": [
        "a = [2, 4, 6, 8, 10]\n",
        "for i in a:\n",
        "  print(i)"
      ],
      "metadata": {
        "colab": {
          "base_uri": "https://localhost:8080/"
        },
        "id": "ra4L37QHuRW0",
        "outputId": "a503eab7-6124-4c10-bf91-d2cef741ebb6"
      },
      "execution_count": 2,
      "outputs": [
        {
          "output_type": "stream",
          "name": "stdout",
          "text": [
            "2\n",
            "4\n",
            "6\n",
            "8\n",
            "10\n"
          ]
        }
      ]
    }
  ]
}